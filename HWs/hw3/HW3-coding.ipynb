{
 "cells": [
  {
   "cell_type": "markdown",
   "metadata": {},
   "source": [
    "# Programming Assignment: Email Spam Naive Bayes\n",
    "\n",
    "## Overview/Task\n",
    "\n",
    "The goal of this programming assignment is to build a naive bayes classifier from scratch that can determine whether email text should be labled spam or not spam based on its contents\n",
    "\n",
    "## Review\n",
    "\n",
    "Remeber that a naive bayes classifier realizes the following probability:\n",
    "\n",
    "$$P(Y|X_1,X_2,...,X_n) \\propto P(Y)*P(X_1|Y)*P(X_2|Y)*...*P(X_n|Y)$$\n",
    "\n",
    "Where $Y$ is a binary class {0,1}\n",
    "\n",
    "Where $X_i$ is a feature of the input\n",
    "\n",
    "The classifier will decide what class each input belongs to based on highest probability from the equation above\n",
    "\n",
    "## Reminders\n",
    "\n",
    "Please remember that the classifier must be written from scratch; do NOT use any libraries that implement the classifier for you, such as but not limited to sklearn.\n",
    "\n",
    "You CAN, however, use SKlearn to split up the dataset between testing and training.\n",
    "\n",
    "Feel free to look up any tasks you are not familiar with, e.g. the function call to read a csv\n",
    "\n",
    "## Task list/Recommended Order\n",
    "\n",
    "In order to provide some guidance, I am giving the following order/checklist to solve this task:\n",
    "<ol>\n",
    "  <li>Compute the \"prior\": P(Y) for Y = 0 and Y = 1</li>\n",
    "  <li>Compute the \"likelihood\": $P(X_n|Y)$</li>\n",
    "  <li>Write code that uses the two items above to make a decision on whether or not an email is spam or ham (aka not spam)</li>\n",
    "  <li>Write code to evaluate your model. Test model on training data to debug </li>\n",
    "  <li>Test model on testing data to debug </li>\n",
    "</ol>"
   ]
  },
  {
   "cell_type": "code",
   "execution_count": 2,
   "metadata": {},
   "outputs": [],
   "source": [
    "#import cell\n",
    "import numpy as np\n",
    "import pandas as pd\n",
    "import random\n",
    "import csv"
   ]
  },
  {
   "cell_type": "markdown",
   "metadata": {},
   "source": [
    "## Function template"
   ]
  },
  {
   "cell_type": "code",
   "execution_count": 92,
   "metadata": {},
   "outputs": [],
   "source": [
    "from functools import reduce\n",
    "def prior(df):\n",
    "    ham_prior = 0\n",
    "    spam_prior =  0\n",
    "    '''YOUR CODE HERE'''\n",
    "    sum = len(df['label'])\n",
    "    ham_prior = len(df[df['label']=='ham']['label'])/sum\n",
    "    spam_prior = len(df[df['label']=='spam']['label'])/sum\n",
    "    '''END'''\n",
    "    return ham_prior, spam_prior\n",
    "\n",
    "def likelihood(df):\n",
    "    ham_like_dict = {}\n",
    "    spam_like_dict = {}\n",
    "    '''YOUR CODE HERE'''\n",
    "    temp = df\n",
    "    temp['set'] = df.apply(lambda row : set([i.strip(\"/.,()-:?!'\\\"\") for i in row.text.split()]), axis = 1)\n",
    "    res = set([]) # the sum set\n",
    "    temp['set'].apply(lambda x: res.update(x))\n",
    "    spam_df = temp[temp['label'] == 'spam']\n",
    "    ham_df = temp[temp['label'] == 'ham']\n",
    "    ####### above is the setup ##########\n",
    "    ham_like_dict = {w:((ham_df.apply(lambda row : w in row['set'], axis = 1).sum())/ham_df.shape[0]) for w in res}\n",
    "    spam_like_dict = {w:((spam_df.apply(lambda row : w in row['set'], axis = 1).sum())/spam_df.shape[0]) for w in res}\n",
    "    '''END'''\n",
    "\n",
    "    return ham_like_dict, spam_like_dict\n",
    "\n",
    "def predict(ham_prior, spam_prior, ham_like_dict, spam_like_dict, text):\n",
    "    '''\n",
    "    prediction function that uses prior and likelihood structure to compute proportional posterior for a single line of text\n",
    "    '''\n",
    "    #ham_spam_decision = 1 if classified as spam, 0 if classified as normal/ham\n",
    "    ham_spam_decision = None\n",
    "\n",
    "    '''YOUR CODE HERE'''\n",
    "    text_list = set([i.strip(\"/.,()-:?!'\\\"\") for i in text.split()])\n",
    "    \n",
    "    spam_prob = spam_prior\n",
    "    ham_prob = ham_prior\n",
    "    #ham_posterior = posterior probability that the email is normal/ham\n",
    "    #print('text_list: ',text_list)\n",
    "    ham_prob_list = [ham_like_dict[w] if (w in ham_like_dict) else 0.5 for w in text_list]\n",
    "    ham_prob = reduce(lambda acc, x : acc * x, ham_prob_list, ham_prob)\n",
    "    ham_posterior = ham_prob\n",
    "\n",
    "    #spam_posterior = posterior probability that the email is spam\n",
    "    spam_prob_list = [spam_like_dict[w] if (w in spam_like_dict) else 0.5 for w in text_list]\n",
    "    spam_prob = reduce(lambda acc, x : acc * x, spam_prob_list, spam_prob)\n",
    "    spam_posterior = spam_prob\n",
    "    #print('ham_posterior: ',ham_posterior,' spam_posterior: ',spam_posterior)\n",
    "    if ham_posterior > spam_posterior:\n",
    "        ham_spam_decision = 0\n",
    "    else:\n",
    "        ham_spam_decision = 1\n",
    "    \n",
    "    '''END'''\n",
    "    return ham_spam_decision\n",
    "\n",
    "\n",
    "def metrics(ham_prior, spam_prior, ham_dict, spam_dict, df):\n",
    "    '''\n",
    "    Calls \"predict\" function and report accuracy, precision, and recall of your prediction\n",
    "    '''\n",
    "    \n",
    "    '''YOUR CODE HERE'''\n",
    "    temp = pd.DataFrame({'pred':list(), 'target':list()})\n",
    "    temp.pred = df.apply(lambda row : predict(ham_prior, spam_prior, ham_dict, spam_dict, row['text']), axis = 1)\n",
    "    temp.target = pd.Series(np.where(df.label.values == 'spam', 1, 0))\n",
    "    # \n",
    "    true_pos = temp[(temp['target'] == 1) & (temp['pred'] == 1)].shape[0]\n",
    "    false_neg = temp[(temp['target'] == 1) & (temp['pred'] == 0)].shape[0]\n",
    "    true_neg = temp[(temp['target'] == 0) & (temp['pred'] == 0)].shape[0]\n",
    "    false_pos = temp[(temp['target'] == 0) & (temp['pred'] == 1)].shape[0]\n",
    "    # accuracy = correct prediction/all prediction\n",
    "    acc = (true_pos + true_neg) / (true_pos + true_neg + false_neg + false_pos)\n",
    "    # precision = true pos / true pos + false pos\n",
    "    precision = true_pos/ (true_pos+false_pos)\n",
    "    # recall = true pos / true pos + false neg\n",
    "    recall = true_pos / (true_pos + false_neg)\n",
    "    '''END'''\n",
    "    return acc, precision, recall"
   ]
  },
  {
   "cell_type": "markdown",
   "metadata": {},
   "source": [
    "## Generate answers with your functions"
   ]
  },
  {
   "cell_type": "code",
   "execution_count": 75,
   "metadata": {},
   "outputs": [
    {
     "name": "stdout",
     "output_type": "stream",
     "text": [
      "<class 'pandas.core.frame.DataFrame'>\n",
      "RangeIndex: 2398 entries, 0 to 2397\n",
      "Data columns (total 5 columns):\n",
      " #   Column        Non-Null Count  Dtype \n",
      "---  ------        --------------  ----- \n",
      " 0   Unnamed: 0.1  2398 non-null   int64 \n",
      " 1   Unnamed: 0    2398 non-null   int64 \n",
      " 2   label         2398 non-null   object\n",
      " 3   text          2398 non-null   object\n",
      " 4   label_num     2398 non-null   int64 \n",
      "dtypes: int64(3), object(2)\n",
      "memory usage: 93.8+ KB\n"
     ]
    }
   ],
   "source": [
    "#loading in the training data\n",
    "train_df = pd.read_csv(\"./TRAIN_balanced_ham_spam.csv\")\n",
    "test_df = pd.read_csv(\"./TEST_balanced_ham_spam.csv\")\n",
    "df = train_df\n",
    "df.info()"
   ]
  },
  {
   "cell_type": "code",
   "execution_count": 65,
   "metadata": {},
   "outputs": [
    {
     "name": "stdout",
     "output_type": "stream",
     "text": [
      "0.5 0.5\n"
     ]
    }
   ],
   "source": [
    "#compute the prior\n",
    "\n",
    "ham_prior, spam_prior = prior(df)\n",
    "\n",
    "print(ham_prior, spam_prior)"
   ]
  },
  {
   "cell_type": "code",
   "execution_count": 67,
   "metadata": {},
   "outputs": [],
   "source": [
    "# compute likelihood\n",
    "\n",
    "ham_like_dict, spam_like_dict = likelihood(df)"
   ]
  },
  {
   "cell_type": "code",
   "execution_count": 94,
   "metadata": {},
   "outputs": [
    {
     "name": "stdout",
     "output_type": "stream",
     "text": [
      "1\n"
     ]
    }
   ],
   "source": [
    "# Test your predict function with some example TEXT\n",
    "\n",
    "some_text_example = df.text.values[1]\n",
    "print(predict(ham_prior, spam_prior, ham_like_dict, spam_like_dict, some_text_example))"
   ]
  },
  {
   "cell_type": "code",
   "execution_count": 93,
   "metadata": {},
   "outputs": [
    {
     "name": "stdout",
     "output_type": "stream",
     "text": [
      "0.785 0.7002341920374707 0.9966666666666667\n"
     ]
    }
   ],
   "source": [
    "# Predict on test_df and compute metrics \n",
    "    \n",
    "df = test_df\n",
    "acc, precision, recall = metrics(ham_prior, spam_prior, ham_like_dict, spam_like_dict, df)\n",
    "print(acc, precision, recall)"
   ]
  },
  {
   "cell_type": "code",
   "execution_count": null,
   "metadata": {},
   "outputs": [],
   "source": []
  }
 ],
 "metadata": {
  "kernelspec": {
   "display_name": "Python 3",
   "language": "python",
   "name": "python3"
  },
  "language_info": {
   "codemirror_mode": {
    "name": "ipython",
    "version": 3
   },
   "file_extension": ".py",
   "mimetype": "text/x-python",
   "name": "python",
   "nbconvert_exporter": "python",
   "pygments_lexer": "ipython3",
   "version": "3.11.1"
  },
  "vscode": {
   "interpreter": {
    "hash": "aee8b7b246df8f9039afb4144a1f6fd8d2ca17a180786b69acc140d282b71a49"
   }
  }
 },
 "nbformat": 4,
 "nbformat_minor": 4
}
