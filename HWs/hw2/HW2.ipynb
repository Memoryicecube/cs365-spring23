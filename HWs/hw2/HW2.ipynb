{
 "cells": [
  {
   "cell_type": "markdown",
   "metadata": {},
   "source": [
    "## Simulation: Drop needles\n",
    "\n",
    "Suppose we have a floor made of parallel strips of wood, each the same width $t$, and we drop a needle with length $l=t$ onto the floor. What is the probability that the needle will lie across a line between two strips?\n",
    "\n",
    "Below is an example of two needles dropped. Needle a falls across a line, while needle b does not.\n",
    "\n",
    "![Example](needle.png)"
   ]
  },
  {
   "cell_type": "markdown",
   "metadata": {},
   "source": [
    "In this coding homework, we will simulate such experiments and connect them with the estimation of $\\pi$."
   ]
  },
  {
   "cell_type": "code",
   "execution_count": 2,
   "metadata": {},
   "outputs": [],
   "source": [
    "import numpy as np\n",
    "import math\n",
    "import matplotlib.pyplot as plt"
   ]
  },
  {
   "attachments": {},
   "cell_type": "markdown",
   "metadata": {},
   "source": [
    "The first thing to write is a function *drop_needle*. It simulates dropping a needle onto the floor we described and returns whether the needle lies across a line between two strips. \n",
    "\n",
    "Now the question is how to describe the position of a needle using random variables. The figure below visualizes a needle sampled, with $t=l=1$ (see figure above). Remember that the needle should have an equal probability of landing in any position. In fact, we can uniformly sample the position of the needle's mass center and then uniformly sample the angle formed by the needle and the x-axis. Specifically, we only focus on the mass center's position with respect to (w.r.t.) the x-axis since we can assume the strip is long enough.\n",
    "\n",
    "Besides, we do not need to sample the x-value of the center from $-\\inf$ to $\\inf$. Instead, we can uniformly sample it from $0$ to $t$. Why is this the case?"
   ]
  },
  {
   "attachments": {},
   "cell_type": "markdown",
   "metadata": {},
   "source": [
    "    Because we uniformly sample the position of the needle's mass center. So the probability of droping to one location should be the same anywhere."
   ]
  },
  {
   "cell_type": "markdown",
   "metadata": {},
   "source": [
    "![needleExmple2](needleExmple2.png)"
   ]
  },
  {
   "cell_type": "markdown",
   "metadata": {},
   "source": [
    "[10pts]"
   ]
  },
  {
   "cell_type": "code",
   "execution_count": 3,
   "metadata": {},
   "outputs": [],
   "source": [
    "import pandas as pd "
   ]
  },
  {
   "cell_type": "code",
   "execution_count": 4,
   "metadata": {},
   "outputs": [],
   "source": [
    "\n",
    "def drop_needle(strip_length, needle_length):\n",
    "    \"\"\"\n",
    "    Simulate dropping a needle on to the floor made of parallel strips of woods.\n",
    "    Return whether the needle lie across a line between two strips.\n",
    "\n",
    "    :return: An Integer that equals to 1 if the needle lie across a line, and 0 otherwise.\n",
    "    \"\"\" \n",
    "    \n",
    "    # write your code here\n",
    "    t = strip_length\n",
    "    l = needle_length\n",
    "    mc = np.random.uniform(0,t)\n",
    "    rad = np.random.uniform(0,np.pi)\n",
    "    len = l*math.cos(rad)/2\n",
    "    x = mc+ abs(len)\n",
    "    y = mc -abs(len)\n",
    "    # so x always greater or equal to y\n",
    "    # print(\"mc: \", mc, \" len: \", len)\n",
    "    if (x>=0 and y< 0) or (x>=t and y<t):\n",
    "        return 1\n",
    "    else:\n",
    "        return 0\n",
    "    "
   ]
  },
  {
   "cell_type": "markdown",
   "metadata": {},
   "source": [
    "Next, write a function run_simulation that calls drop_needle repetitively for n times. The function should return the probability that a dropped needle lies across a line based on the n trials. [5pts]"
   ]
  },
  {
   "cell_type": "code",
   "execution_count": 5,
   "metadata": {},
   "outputs": [],
   "source": [
    "def run_simulation(n, strip_length, needle_length):\n",
    "    \"\"\"\n",
    "    Repeat drop_needle experiment for n times. Return the probability that the needle will lie across a line. \n",
    "\n",
    "    :return: float, the probability that the needle will lie across a line according to the n experiments.\n",
    "    \"\"\" \n",
    "    # Write your code here\n",
    "    trials = np.array([])\n",
    "    for _ in range(n):\n",
    "        trials = np.append(trials, drop_needle(strip_length, needle_length))\n",
    "    # print(trials.size)\n",
    "    return trials.mean()\n",
    "    "
   ]
  },
  {
   "cell_type": "markdown",
   "metadata": {},
   "source": [
    "### Run the simulation\n",
    "\n",
    "Run the *run_simulation* function 500 times with parameters n=1000, strip_length=1, and needle_length=1. Each time the function is going to return a probability of the needle lying across the line. Plot a histogram of those 500 probabilities. [5pts]"
   ]
  },
  {
   "cell_type": "code",
   "execution_count": 6,
   "metadata": {},
   "outputs": [
    {
     "data": {
      "image/png": "[encoded data removed]",
      "text/plain": [
       "<Figure size 640x480 with 1 Axes>"
      ]
     },
     "metadata": {},
     "output_type": "display_data"
    }
   ],
   "source": [
    "# Write your code here\n",
    "vals = np.array([])\n",
    "for _ in range(500):\n",
    "    vals = np.append(vals, run_simulation(1000,1,1))\n",
    "plt.hist(vals, range=(0.55,0.7), bins=40)\n",
    "plt.show()"
   ]
  },
  {
   "cell_type": "markdown",
   "metadata": {},
   "source": [
    "## Estimate $\\pi$ based on the returned probability\n",
    "\n",
    "This experiment can be used to estimate the value of $\\pi$. In the case where the needle length $l$ equals to the width $t$ of the strips, the probability of a needle lies across a line is $p=\\frac{2}{\\pi}$. Try to prove why this holds. [15pts]\n"
   ]
  },
  {
   "cell_type": "markdown",
   "metadata": {},
   "source": [
    "Your proof: "
   ]
  },
  {
   "attachments": {},
   "cell_type": "markdown",
   "metadata": {},
   "source": [
    "\n",
    "\n",
    "Assume the mc stands for mass center position and its range is from 0 to t. The needle cross the line when $\\frac{l\\cos{\\theta}}{2} \\geq t-mc$ and $t-\\frac{l\\cos{\\theta}}{2}\\leq mc \\leq t$. So, we have \n",
    "$$0 \\leq t-mc \\leq \\frac{l\\cos{\\theta}}{2} \\text{ and } t-\\frac{l\\cos{\\theta}}{2}\\leq mc \\leq t$$\n",
    "Also, since $mc \\sim Uniform$ :\n",
    "$Pr(mc) = \\frac{1}{t}$ and so $Pr(t - mc) = \\frac{1}{t}$. Assume event A is when mc fall into the above range. As the second range has the same probability as the first one, $Pr(A) = 2Pr(t - mc) = \\frac{2}{t}$.\n",
    "\n",
    "Due to this, to ensure $\\cos{\\theta}$ is positive, the range of $\\theta$ should be $0 \\leq \\theta \\leq \\frac{\\pi}{2}$, and since $\\theta \\sim Uniform$\n",
    "$$Pr(\\theta) = \\frac{1}{\\frac{\\pi}{2}} = \\frac{2}{\\pi}$$ \n",
    "\n",
    "As $Pr(\\theta)$ and $Pr(mc)$ are independent from each other, the joint probability density function for $\\theta$ and $mc$ is:\n",
    "$$ f(\\theta , A)  = \\frac{2}{t} \\cdot \\frac{2}{\\pi} = \\frac{4}{t \\pi} $$\n",
    "\n",
    "$$ \\int_{0}^{\\frac{\\pi}{2}} \\int_{0}^{\\frac{l\\cos{\\theta}}{2}} \\frac{4}{t \\pi} \\; d(t-mc) d\\theta = \\int_{0}^{\\frac{\\pi}{2}} \\frac{4}{t \\pi} \\cdot \\frac{l\\cos{\\theta}}{2} d\\theta = \\int_{0}^{\\frac{\\pi}{2}} \\frac{2l\\cos{\\theta}}{t \\pi}d\\theta = \\frac{2}{\\pi}$$\n",
    "\n",
    "Since"
   ]
  },
  {
   "cell_type": "markdown",
   "metadata": {},
   "source": [
    "\n",
    "Assume you know $p=\\frac{2}{\\pi}$, and you can call the function *run_simulation*. Let $X_i$ be the indicator random variable of dropping the $i$-th needle, i.e., $X_i=1$ if the $i$-th needle lies across a line, and $X_i=0$ otherwise. Let $S_n=\\sum_{i=1}^n X_i$. How many needles do you need to drop, i.e., what value of $n$ should you take, to get the 95\\% confidence interval of $S_n$? Use Chebyshev's inequality and let $\\epsilon=0.1$. [15pts]"
   ]
  },
  {
   "cell_type": "markdown",
   "metadata": {},
   "source": [
    "Your answer: "
   ]
  },
  {
   "attachments": {},
   "cell_type": "markdown",
   "metadata": {},
   "source": [
    "Since $Var(S_n) = \\sum_{i=1}^n Var(X_i) + 2 \\sum_{i\\lt j} Cov(X_i,X_j)$, $Var(X_i) = p(1-p)$ and as covariance of two independent random variables is 0, we get:\n",
    "$$Var(S_n) = n \\cdot \\frac{2}{\\pi} (1-\\frac{2}{\\pi})$$\n",
    "\n",
    "According to WLLN's proof using Chebyshev’s inequality\n",
    "$$Pr(\\lvert \\frac{S_n}{n} - \\mu \\rvert \\gt \\epsilon) \\leq Pr(\\lvert S_n - n\\mu \\rvert \\gt \\epsilon n) \\leq  \\frac{Var(S_n)}{\\epsilon^2 n^2} \\leq \\delta$$\n",
    "Since we want to get $95\\% $ confidence level, $1 - \\delta = .95$, so $\\delta = 0.5$\n",
    "$$\\frac{Var(S_n)}{\\epsilon^2 n^2} = \\frac{n \\cdot \\frac{2}{\\pi} (1-\\frac{2}{\\pi})}{n^2 \\epsilon ^2} = \\frac{2 \\pi -4}{\\pi ^2 \\cdot n \\cdot (0.1)^2} \\leq 0.5$$\n",
    "\n",
    "    And we get n = 463"
   ]
  },
  {
   "cell_type": "markdown",
   "metadata": {},
   "source": [
    "What does the CLT say about $S_n$? Run the *run_simulation* function with parameters n=5000, strip_length=1, and needle_length=1, and report a 95\\% confidence interval of $S_n$ based on CLT (see lecture slides page 4 from Feb 2). [10pts] "
   ]
  },
  {
   "attachments": {},
   "cell_type": "markdown",
   "metadata": {},
   "source": [
    "The $S_n = \\sum_{i = 1}^n{X_i}$ which means is the summation of all possible cases"
   ]
  },
  {
   "cell_type": "code",
   "execution_count": 10,
   "metadata": {},
   "outputs": [
    {
     "name": "stdout",
     "output_type": "stream",
     "text": [
      "0.6228114585794892 <= X_N <= 0.6231885414205108\n"
     ]
    }
   ],
   "source": [
    "# Write your code here.\n",
    "mean = run_simulation(5000,1,1)\n",
    "std = math.sqrt((2/math.pi)*(1-(2/(math.pi)))/5000)\n",
    "ste = std/math.sqrt(5000)\n",
    "end = mean+1.96*ste\n",
    "start = mean-1.96*ste\n",
    "print(start,\"<= X_N <=\", end)"
   ]
  }
 ],
 "metadata": {
  "kernelspec": {
   "display_name": "Python 3",
   "language": "python",
   "name": "python3"
  },
  "language_info": {
   "codemirror_mode": {
    "name": "ipython",
    "version": 3
   },
   "file_extension": ".py",
   "mimetype": "text/x-python",
   "name": "python",
   "nbconvert_exporter": "python",
   "pygments_lexer": "ipython3",
   "version": "3.11.1"
  },
  "vscode": {
   "interpreter": {
    "hash": "aee8b7b246df8f9039afb4144a1f6fd8d2ca17a180786b69acc140d282b71a49"
   }
  }
 },
 "nbformat": 4,
 "nbformat_minor": 4
}
