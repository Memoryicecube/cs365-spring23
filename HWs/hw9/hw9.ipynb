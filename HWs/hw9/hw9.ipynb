{
 "cells": [
  {
   "cell_type": "markdown",
   "metadata": {},
   "source": [
    "# Gradient decent\n",
    "\n",
    "## Exact Gradient Computation\n",
    "\n",
    "Given a function f, sometimes we can compute its exact gradient at any x if f's derivative is easy to compute. For example, let $f(x)=2x^2-3x+\\ln x$, where $x>0$. Please compute the derivative of f and report its gradient at $x=2$."
   ]
  },
  {
   "cell_type": "markdown",
   "metadata": {},
   "source": [
    "Your answer: "
   ]
  },
  {
   "cell_type": "markdown",
   "metadata": {},
   "source": [
    "## Numerical Gradient Computation [5 pts]\n",
    "\n",
    "Instead of computing the derivative of a function, we can also estimate the gradient numerically with various methods. These methods are essential, especially when a callable function is not exposed due to privacy reasons, or it is hard to differentiate analytically. \n",
    "\n",
    "To numerically compute the gradient, the simple way is to follow Newton's difference quotient: $f'(x)=\\lim_{h\\to 0}{f(x+h)-f(x)\\over h}$. Another two-point formula is to compute the slope through the points $(x-h,f(x-h))$ and $(x+h,f(x+h))$. Let us reuse the example function $f(x)=2x^2-3x+\\ln x$ and test the precision of these two approaches. Define the function in the next cell, and try to compute its gradient via both methods at $x=2$. Range h value in [0.1,0.01,0.001,0.0001] and report all gradients calculated. Which method is more accurate, and why does it work better?"
   ]
  },
  {
   "cell_type": "code",
   "execution_count": 78,
   "metadata": {},
   "outputs": [],
   "source": [
    "import math\n",
    "\n",
    "def f(x):\n",
    "    # Your code here\n",
    "    return 2*x**2-3*x+math.log(x)"
   ]
  },
  {
   "cell_type": "code",
   "execution_count": 79,
   "metadata": {},
   "outputs": [],
   "source": [
    "# Compute gradient using the first method (Newton's difference quotient)\n",
    "h_s = [.1,.01,.001,.0001]\n",
    "f_prime = [(f(2+h)-f(2))/h for h in h_s]"
   ]
  },
  {
   "cell_type": "code",
   "execution_count": 80,
   "metadata": {},
   "outputs": [],
   "source": [
    "# Compute gradient using the second method \n",
    "f2_prime = [(f(2+h)-f(2-h))/(2*h) for h in h_s]"
   ]
  },
  {
   "cell_type": "code",
   "execution_count": 81,
   "metadata": {},
   "outputs": [
    {
     "data": {
      "text/plain": [
       "[5.687901641694317, 5.518754151103744, 5.50187504165045, 5.5001875004201395]"
      ]
     },
     "execution_count": 81,
     "metadata": {},
     "output_type": "execute_result"
    }
   ],
   "source": [
    "f_prime"
   ]
  },
  {
   "cell_type": "code",
   "execution_count": 82,
   "metadata": {},
   "outputs": [
    {
     "data": {
      "text/plain": [
       "[5.500417292784909, 5.500004166729067, 5.500000041665842, 5.500000000417948]"
      ]
     },
     "execution_count": 82,
     "metadata": {},
     "output_type": "execute_result"
    }
   ],
   "source": [
    "f2_prime"
   ]
  },
  {
   "cell_type": "markdown",
   "metadata": {},
   "source": [
    "#### Remark: You may find the gradient more accurate when using a smaller h value. However, this is not always the case. Due to the finite precision of the floating-point, rounding errors always exist and can dominate the computation when the h value is too small. Run the following two cells to observe such scenarios."
   ]
  },
  {
   "cell_type": "code",
   "execution_count": 83,
   "metadata": {},
   "outputs": [
    {
     "name": "stdout",
     "output_type": "stream",
     "text": [
      "5.551115123125783\n"
     ]
    }
   ],
   "source": [
    "eps = 1e-15\n",
    "print((f(2+eps)-f(2-eps))/2/eps)"
   ]
  },
  {
   "cell_type": "code",
   "execution_count": 84,
   "metadata": {},
   "outputs": [
    {
     "name": "stdout",
     "output_type": "stream",
     "text": [
      "0.0\n"
     ]
    }
   ],
   "source": [
    "eps = 1e-20\n",
    "print((f(2+eps)-f(2-eps))/2/eps)"
   ]
  },
  {
   "cell_type": "code",
   "execution_count": null,
   "metadata": {},
   "outputs": [],
   "source": []
  },
  {
   "cell_type": "markdown",
   "metadata": {},
   "source": [
    "## Logistic regression\n",
    "\n",
    "Logistic regression is a classification tool that models the probability of an event taking place by having the log odds for the event be a linear combination of one or more independent variables. Specifically, let $\\vec{x}=<x_1,\\dots ,x_m>$ be an m dimensional vector of independent variables (features), and $y$ be the corresponding binary dependent variable (label). The probability of having $y=1$ is modeled as $$P_y={1\\over 1+e^{-(b_0+b_1\\cdot x_1+\\dots +b_m\\cdot x_m)}}={1\\over 1+e^{-(b_0+\\vec{b}_{1:m}\\cdot\\vec{x})}}$$\n",
    "\n",
    "Given a set of data points $<\\vec{x}_k,y_k>$ with $k\\in [1,n]$, how can we fit the model with these data, i.e., how to choose the best $\\vec{b}=b_0,b_1\\cdots,b_m$?\n",
    "\n",
    "One way is to write out the likelihood $$\\prod_{k:y_k=1}P_{y_k}\\prod_{k:y_k=0}(1-P_{y_k})$$ and find $b_0,b_1\\cdots,b_m$ that maximize its logarithm, $$l=\\sum_{k:y_k=1}\\ln(P_{y_k})+\\sum_{k:y_k=0}\\ln(1-P_{y_k})$$\n",
    "\n",
    "In contrast to computing the closed form gradient of a Least-squares loss in a linear model (chapter 5 of MML book), doing the same for logistic regression is not possible. Gradient descent can be used to optimize such function $l$, and we will implement it step-by-step. First, write a function log_likelihood in the next cell that computes the log-likelihood given data points and $\\vec{b}$. [5 pts]"
   ]
  },
  {
   "cell_type": "code",
   "execution_count": 85,
   "metadata": {},
   "outputs": [],
   "source": [
    "import numpy as np\n",
    "import sklearn"
   ]
  },
  {
   "cell_type": "code",
   "execution_count": 86,
   "metadata": {},
   "outputs": [],
   "source": [
    "def p(X,b):\n",
    "    #print(\"X shape: \",X.shape,\"b shpae: \",b.shape)\n",
    "    pp = X@b\n",
    "    return 1/(1+math.exp(-1*pp))\n",
    "    \n",
    "def log_likelihood(X,y,b):\n",
    "    \"\"\"\n",
    "    X: n*m numpy data array.\n",
    "    y: one dimension numpy data array of length n\n",
    "    b: one dimension numpy data array of length m+1\n",
    "    \n",
    "    Return the log likelihood.\n",
    "    \"\"\"\n",
    "    n,m = X.shape\n",
    "    X0 = np.ones((n,1))\n",
    "    Xnew = np.hstack((X0,X))\n",
    "    \n",
    "    l = [math.log(p(Xnew[i],b)) if y[i]==1 else math.log(1-p(Xnew[i],b)) for i in range(len(y))]\n",
    "    return sum(l)"
   ]
  },
  {
   "cell_type": "markdown",
   "metadata": {},
   "source": [
    "### Test your log_likelihood function with a small example below."
   ]
  },
  {
   "cell_type": "code",
   "execution_count": 87,
   "metadata": {},
   "outputs": [
    {
     "data": {
      "text/plain": [
       "-2.031735331771901"
      ]
     },
     "execution_count": 87,
     "metadata": {},
     "output_type": "execute_result"
    }
   ],
   "source": [
    "X=np.array([[0.1],[0.5],[1.]])\n",
    "y=np.array([0,0,1])\n",
    "b=np.array([0.,1.])\n",
    "# Your answer should be around -2.03\n",
    "log_likelihood(X,y,b)"
   ]
  },
  {
   "cell_type": "code",
   "execution_count": 88,
   "metadata": {},
   "outputs": [
    {
     "name": "stdout",
     "output_type": "stream",
     "text": [
      "[1.e-04 1.e+00] [0. 1.]\n"
     ]
    }
   ],
   "source": [
    "b_new = b.copy()\n",
    "b_new[0] = b_new[0]+.0001\n",
    "print(b_new,b)"
   ]
  },
  {
   "cell_type": "markdown",
   "metadata": {},
   "source": [
    "Now that we have a function to maximize, the next step is to compute the gradient of the log-likelihood with respect to parameter $\\vec{b}$. Use the method with Newton's difference quotient, and set $h=0.0001$. Implement the function compute_gradient in the next cell. [7 pts]"
   ]
  },
  {
   "cell_type": "code",
   "execution_count": 89,
   "metadata": {},
   "outputs": [],
   "source": [
    "def compute_gradient(X,y,b):\n",
    "# The inputs are the same as the ones of log_likelihood\n",
    "    h = .0001\n",
    "    res = []\n",
    "    for i in range(len(b)):\n",
    "        b_new = b.copy()\n",
    "        \n",
    "        b_new[i] = b_new[i]+h\n",
    "        #print('b:',b,\" b_new: \",b_new)\n",
    "        res.append((log_likelihood(X,y,b_new)-log_likelihood(X,y,b))/h)\n",
    "    return res"
   ]
  },
  {
   "cell_type": "code",
   "execution_count": 90,
   "metadata": {},
   "outputs": [
    {
     "data": {
      "text/plain": [
       "[-0.8785311466219525, -0.09479905564102609]"
      ]
     },
     "execution_count": 90,
     "metadata": {},
     "output_type": "execute_result"
    }
   ],
   "source": [
    "# Test your function here, preserve the output\n",
    "compute_gradient(X,y,b)"
   ]
  },
  {
   "cell_type": "markdown",
   "metadata": {},
   "source": [
    "Once we know how to compute the gradients, we can optimize the objective, which is log-likelihood in our case, using gradient descent. It iteratively changes the parameters in a small \"step\" towards the gradient direction, i.e., the direction where the objective increases at the fastest pace. Formally, denote the calculated gradients as $\\Delta (\\vec{b})$, we can update our parameters via $\\vec{b}=\\vec{b}+\\gamma \\cdot \\Delta (\\vec{b})$, where $\\gamma$ is the size of the \"step\". Repeat this process until the objective stop improving or a pre-set max number of iterations is reached. **Note in practice, the value of gradient changes over iterations and can be very large/small, so you should normalize the gradient vector every iteration, i.e., scale it to $\\Delta (\\vec{b})\\over ||\\Delta (\\vec{b})||_2$, before using it to compute the new $\\vec{b}$. Therefore, the update rule for parameters becomes $\\vec{b}=\\vec{b}+\\gamma \\cdot {\\Delta (\\vec{b})\\over ||\\Delta (\\vec{b})||_2}$**.\n",
    "\n",
    "Implement the gradient_descent function below. [7 pts]"
   ]
  },
  {
   "cell_type": "code",
   "execution_count": 103,
   "metadata": {
    "scrolled": true
   },
   "outputs": [],
   "source": [
    "def gradient_descent(X, y, initial_b, step_size, max_iteration):\n",
    "    \"\"\"\n",
    "    X: n*m numpy data array.\n",
    "    y: one dimension numpy data array of length n\n",
    "    initial_b: one dimension numpy data array of length m+1\n",
    "    step_size: scalar, the size of one step update\n",
    "    max_iteration: scalar, the max number of iterations\n",
    "    Return the updated coefficient vector b.\n",
    "    \"\"\"\n",
    "    pre_ll = log_likelihood(X,y,initial_b)\n",
    "    \n",
    "    b = initial_b.copy()\n",
    "    prev_b = b\n",
    "    iter = 0\n",
    "    for i in range(max_iteration):\n",
    "        iter+=1\n",
    "        grad = np.array(compute_gradient(X,y,b))\n",
    "        grad = grad/np.sqrt(grad.T@grad)\n",
    "        b = b + step_size * grad\n",
    "        temp = log_likelihood(X,y,b)\n",
    "        if(temp < pre_ll):\n",
    "            iter-=1\n",
    "            return prev_b, iter\n",
    "        pre_ll = temp\n",
    "        prev_b = b\n",
    "        \n",
    "    return b, iter"
   ]
  },
  {
   "cell_type": "markdown",
   "metadata": {},
   "source": [
    "Test the function with the previous example again. Print for each sample from X, based on your model, the probability of having label=1."
   ]
  },
  {
   "cell_type": "code",
   "execution_count": 104,
   "metadata": {},
   "outputs": [
    {
     "name": "stdout",
     "output_type": "stream",
     "text": [
      "[-60.22500404  80.46041218] 1000\n"
     ]
    },
    {
     "data": {
      "text/plain": [
       "[2.182550875139692e-23, 2.07190378157202e-09, 0.9999999983711769]"
      ]
     },
     "execution_count": 104,
     "metadata": {},
     "output_type": "execute_result"
    }
   ],
   "source": [
    "optimized_b, iter  = gradient_descent(X, y, b, 0.1, 1000)\n",
    "print(optimized_b,iter)\n",
    "# compute and print the probability for each row in X below using optimized_b\n",
    "n,m = X.shape\n",
    "X0 = np.ones((n,1))\n",
    "Xnew = np.hstack((X0,X))\n",
    "[1/(1+math.exp(-1*(optimized_b@Xnew[i].T))) for i in range(len(Xnew))]"
   ]
  },
  {
   "cell_type": "markdown",
   "metadata": {},
   "source": [
    "Next, we apply the implemented logistic regression model to a real dataset. The dataset is a trimmed breast-cancer-Wisconsin dataset from UCI machine learning Repository. Only 100 data points are offered in the training set to make sure the computation can be finished swiftly, no matter how you implement the optimizer. The training dataset is loaded in the next cell, and the vector $\\vec{b}$ is also randomly initialized. \n",
    "\n",
    "Fit three models with the training set using different step size ranging in [0.01,0.05,0.1] and set the max number of iterations as 10000. How do the final log-likelihood value and the number of iterations change with different step sizes? [7 pts]"
   ]
  },
  {
   "cell_type": "code",
   "execution_count": 105,
   "metadata": {},
   "outputs": [],
   "source": [
    "f = open(\"breast-cancer-wisconsin.data\",\"r\")\n",
    "X_train = []\n",
    "y_train = []\n",
    "for line in f:\n",
    "    tmp = []\n",
    "    for part in line.strip().split(\",\")[1:-1]:\n",
    "        tmp.append(float(part))\n",
    "    y_train.append((0 if line.strip().split(\",\")[-1]==\"2\" else 1))\n",
    "    X_train.append(tmp)\n",
    "X_train = np.array(X_train)\n",
    "y_train = np.array(y_train)\n",
    "random_b = np.random.uniform(0,1,size=(10))"
   ]
  },
  {
   "cell_type": "code",
   "execution_count": 97,
   "metadata": {},
   "outputs": [],
   "source": [
    "import tqdm"
   ]
  },
  {
   "cell_type": "code",
   "execution_count": 106,
   "metadata": {},
   "outputs": [
    {
     "name": "stdout",
     "output_type": "stream",
     "text": [
      "opt_b;  [-1.49487808e+01  9.48546833e-01 -1.41683547e+00  9.29835310e-01\n",
      "  9.95595892e-01  4.67700382e-01 -4.79715208e-04  8.66934216e-01\n",
      "  1.05312394e+00  1.44183208e+00] iteration :  6551\n",
      "likehood: -7.4853626398190425 \n",
      "\n",
      "opt_b;  [-2.90973277  0.19750722  0.22915517  0.14809109  0.14747135  0.02708475\n",
      "  0.17568609 -0.43456428  0.41038245  0.09423698] iteration :  264\n",
      "likehood: -20.180316115259846 \n",
      "\n",
      "opt_b;  [ 0.14352998 -0.05652715  0.16623522  0.16805258  0.07503815 -0.06004591\n",
      "  0.1457018  -0.69657107  0.50223143 -0.06030333] iteration :  33\n",
      "likehood: -45.47460238439105 \n",
      "\n"
     ]
    }
   ],
   "source": [
    "# Fit three models with different step size, report the final log-likelihood, \n",
    "# number of iterations and the final coefficent vector b.\n",
    "model_list = []\n",
    "for step in [.01,.05,.1]:\n",
    "    opt_b, itera = gradient_descent(X_train, y_train, random_b, step, 10000)\n",
    "    print('opt_b; ',opt_b, 'iteration : ',itera)\n",
    "    model_list.append(opt_b)\n",
    "    l = log_likelihood(X_train,y_train,opt_b)\n",
    "    print('likehood:',l,'\\n')"
   ]
  },
  {
   "cell_type": "markdown",
   "metadata": {},
   "source": [
    "Finally, load the test dataset, and predict for each sample in the test set what labels it should have using the model obtained. Compare your results with the ground truth labels, and report the accuracy rate. [4 pts]"
   ]
  },
  {
   "cell_type": "code",
   "execution_count": 99,
   "metadata": {},
   "outputs": [],
   "source": [
    "f = open(\"test_data.txt\",\"r\")\n",
    "X_test = []\n",
    "y_test = []\n",
    "for line in f:\n",
    "    tmp = []\n",
    "    for part in line.strip().split(\",\")[1:-1]:\n",
    "        tmp.append(float(part))\n",
    "    y_test.append((0 if line.strip().split(\",\")[-1]==\"2\" else 1))\n",
    "    X_test.append(tmp)"
   ]
  },
  {
   "cell_type": "code",
   "execution_count": 121,
   "metadata": {},
   "outputs": [
    {
     "name": "stdout",
     "output_type": "stream",
     "text": [
      "0.9\n",
      "0.9\n",
      "0.7\n"
     ]
    }
   ],
   "source": [
    "# Predict based on your models and report the accuracy\n",
    "for b in model_list:\n",
    "    n,m = np.array(X_test).shape\n",
    "    X0 = np.ones((n,1))\n",
    "    Xnew = np.hstack((X0,X_test))\n",
    "    prob = [1/(1+math.exp(-1*(b@Xnew[i].T))) for i in range(len(Xnew))]\n",
    "    pred = np.round(prob)\n",
    "    accuracy = np.mean(np.abs(np.subtract(np.array(pred),np.array(y_test))))\n",
    "    print(1-accuracy)"
   ]
  },
  {
   "cell_type": "code",
   "execution_count": null,
   "metadata": {},
   "outputs": [],
   "source": []
  }
 ],
 "metadata": {
  "kernelspec": {
   "display_name": "Python 3",
   "language": "python",
   "name": "python3"
  },
  "language_info": {
   "codemirror_mode": {
    "name": "ipython",
    "version": 3
   },
   "file_extension": ".py",
   "mimetype": "text/x-python",
   "name": "python",
   "nbconvert_exporter": "python",
   "pygments_lexer": "ipython3",
   "version": "3.11.1"
  }
 },
 "nbformat": 4,
 "nbformat_minor": 4
}
